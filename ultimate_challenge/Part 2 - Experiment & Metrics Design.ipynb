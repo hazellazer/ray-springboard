{
 "cells": [
  {
   "cell_type": "markdown",
   "metadata": {},
   "source": [
    "## Context\n",
    "The neighboring cities of Gotham and Metropolis have complementary circadian rhythms: on weekdays, Ultimate Gotham is most active at night, and Ultimate Metropolis is most active during the day. On weekends, there is reasonable activity in both cities. However, a toll bridge, with a two way toll, between the two cities causes driver partners to tend to be exclusive to each city. The Ultimate managers of city operations for the two cities have proposed an experiment to encourage driver partners to be available in both cities, by reimbursing all toll costs."
   ]
  },
  {
   "cell_type": "markdown",
   "metadata": {},
   "source": [
    "# Metrics\n",
    "### Key Measures of Success\n",
    "In order for this initiative to be successful, the increase in revenue from rides must exceed the cost of toll reimbursement. \n",
    "\n",
    "For this scenario I would devise an experiment comparing the two weeks prior to initiating the toll reimbursement, and the two weeks after and compare the weekly, daily, and bimonthly revenue between the two categories. Additionally, the number of tolls and total cost of toll fees would need to be taken into account to ensure any increase in profits exceed the cost of tolls. \n",
    "\n",
    "After determining the increase in revenue, I would test for the statistical significance of the increase using bootstrapping. Operating under a null hypothesis that the reimbursement program did not lead to an increase in revenue, we would test how likely our results are if they were to have happened by chance.\n",
    "\n",
    "Potential confounding factors include weather events, changes to public transportation availability, and holidays or other major events during that time. "
   ]
  },
  {
   "cell_type": "code",
   "execution_count": null,
   "metadata": {},
   "outputs": [],
   "source": []
  }
 ],
 "metadata": {
  "kernelspec": {
   "display_name": "Python 3",
   "language": "python",
   "name": "python3"
  },
  "language_info": {
   "codemirror_mode": {
    "name": "ipython",
    "version": 3
   },
   "file_extension": ".py",
   "mimetype": "text/x-python",
   "name": "python",
   "nbconvert_exporter": "python",
   "pygments_lexer": "ipython3",
   "version": "3.7.6"
  }
 },
 "nbformat": 4,
 "nbformat_minor": 4
}
